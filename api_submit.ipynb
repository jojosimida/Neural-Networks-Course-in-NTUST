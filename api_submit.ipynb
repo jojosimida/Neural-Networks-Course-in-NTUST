{
 "cells": [
  {
   "cell_type": "code",
   "execution_count": 8,
   "metadata": {
    "collapsed": true
   },
   "outputs": [],
   "source": [
    "import requests"
   ]
  },
  {
   "cell_type": "code",
   "execution_count": 9,
   "metadata": {},
   "outputs": [
    {
     "data": {
      "text/plain": [
       "'D:/Program/dataset/KDD2018/result/result_2018-04-23-2018-04-24.csv'"
      ]
     },
     "execution_count": 9,
     "metadata": {},
     "output_type": "execute_result"
    }
   ],
   "source": [
    "res_path = 'D:/Program/dataset/KDD2018/result/'\n",
    "start_data = '2018-04-22-0'\n",
    "end_data = '2018-04-22-23'\n",
    "\n",
    "start = int(start_data.split('-')[-2])+1\n",
    "start = start_data[:8]+str(start)\n",
    "\n",
    "end = int(end_data.split('-')[-2])+2\n",
    "end = end_data[:8]+str(end)\n",
    "\n",
    "csv_name = res_path+'result_'+start+'-'+end+'.csv'\n",
    "csv_name"
   ]
  },
  {
   "cell_type": "code",
   "execution_count": 11,
   "metadata": {},
   "outputs": [
    {
     "name": "stdout",
     "output_type": "stream",
     "text": [
      "{\"success\": true}\n"
     ]
    }
   ],
   "source": [
    "files={'files': open(csv_name,'rb')}\n",
    " \n",
    "data = {\n",
    "    \"user_id\": \"bigfatjj5566\",   #user_id is your username which can be found on \n",
    "                                 #the top-right corner on our website when you logged in.\n",
    "    \"team_token\": \"c2cb15439b4ade5c70cc6a2f817359c046accf7fdd185aab79aa4ac1b42e65c1\", #your team_token.\n",
    "    \"description\": 'submit',  #no more than 40 chars.\n",
    "    \"filename\": \"i am filename\", #your filename\n",
    "}\n",
    " \n",
    "url = 'https://biendata.com/competition/kdd_2018_submit/'\n",
    " \n",
    "response = requests.post(url, files=files, data=data)\n",
    " \n",
    "print(response.text)"
   ]
  },
  {
   "cell_type": "code",
   "execution_count": null,
   "metadata": {
    "collapsed": true
   },
   "outputs": [],
   "source": []
  }
 ],
 "metadata": {
  "kernelspec": {
   "display_name": "Python 3",
   "language": "python",
   "name": "python3"
  },
  "language_info": {
   "codemirror_mode": {
    "name": "ipython",
    "version": 3
   },
   "file_extension": ".py",
   "mimetype": "text/x-python",
   "name": "python",
   "nbconvert_exporter": "python",
   "pygments_lexer": "ipython3",
   "version": "3.6.2"
  }
 },
 "nbformat": 4,
 "nbformat_minor": 2
}
