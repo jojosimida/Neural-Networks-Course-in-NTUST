{
 "cells": [
  {
   "cell_type": "code",
   "execution_count": 10,
   "metadata": {},
   "outputs": [],
   "source": [
    "import pandas as pd\n",
    "import data_API\n",
    "import matplotlib.pyplot as plt\n",
    "from mpl_toolkits.mplot3d import Axes3D\n",
    "import matplotlib as mpl\n",
    "import numpy as np\n",
    "import seaborn as sns\n",
    "\n",
    "%matplotlib inline"
   ]
  },
  {
   "cell_type": "code",
   "execution_count": 11,
   "metadata": {
    "collapsed": true
   },
   "outputs": [],
   "source": [
    "args = data_API.Param('2018-04-02-0', '2018-04-02-23')"
   ]
  },
  {
   "cell_type": "code",
   "execution_count": 23,
   "metadata": {},
   "outputs": [
    {
     "data": {
      "text/html": [
       "<div>\n",
       "<style>\n",
       "    .dataframe thead tr:only-child th {\n",
       "        text-align: right;\n",
       "    }\n",
       "\n",
       "    .dataframe thead th {\n",
       "        text-align: left;\n",
       "    }\n",
       "\n",
       "    .dataframe tbody tr th {\n",
       "        vertical-align: top;\n",
       "    }\n",
       "</style>\n",
       "<table border=\"1\" class=\"dataframe\">\n",
       "  <thead>\n",
       "    <tr style=\"text-align: right;\">\n",
       "      <th></th>\n",
       "      <th>id</th>\n",
       "      <th>station_id</th>\n",
       "      <th>time</th>\n",
       "      <th>PM25_Concentration</th>\n",
       "      <th>PM10_Concentration</th>\n",
       "      <th>NO2_Concentration</th>\n",
       "      <th>CO_Concentration</th>\n",
       "      <th>O3_Concentration</th>\n",
       "      <th>SO2_Concentration</th>\n",
       "    </tr>\n",
       "  </thead>\n",
       "  <tbody>\n",
       "    <tr>\n",
       "      <th>0</th>\n",
       "      <td>2943570</td>\n",
       "      <td>dongsi_aq</td>\n",
       "      <td>2018-04-02 01:00:00</td>\n",
       "      <td>265.0</td>\n",
       "      <td>NaN</td>\n",
       "      <td>69.0</td>\n",
       "      <td>2.3</td>\n",
       "      <td>22.0</td>\n",
       "      <td>10.0</td>\n",
       "    </tr>\n",
       "    <tr>\n",
       "      <th>1</th>\n",
       "      <td>2943571</td>\n",
       "      <td>tiantan_aq</td>\n",
       "      <td>2018-04-02 01:00:00</td>\n",
       "      <td>254.0</td>\n",
       "      <td>NaN</td>\n",
       "      <td>87.0</td>\n",
       "      <td>2.3</td>\n",
       "      <td>13.0</td>\n",
       "      <td>6.0</td>\n",
       "    </tr>\n",
       "    <tr>\n",
       "      <th>2</th>\n",
       "      <td>2943572</td>\n",
       "      <td>guanyuan_aq</td>\n",
       "      <td>2018-04-02 01:00:00</td>\n",
       "      <td>266.0</td>\n",
       "      <td>NaN</td>\n",
       "      <td>87.0</td>\n",
       "      <td>2.3</td>\n",
       "      <td>18.0</td>\n",
       "      <td>12.0</td>\n",
       "    </tr>\n",
       "    <tr>\n",
       "      <th>3</th>\n",
       "      <td>2943573</td>\n",
       "      <td>wanshouxigong_aq</td>\n",
       "      <td>2018-04-02 01:00:00</td>\n",
       "      <td>266.0</td>\n",
       "      <td>291.0</td>\n",
       "      <td>84.0</td>\n",
       "      <td>2.4</td>\n",
       "      <td>13.0</td>\n",
       "      <td>13.0</td>\n",
       "    </tr>\n",
       "    <tr>\n",
       "      <th>4</th>\n",
       "      <td>2943574</td>\n",
       "      <td>aotizhongxin_aq</td>\n",
       "      <td>2018-04-02 01:00:00</td>\n",
       "      <td>255.0</td>\n",
       "      <td>NaN</td>\n",
       "      <td>74.0</td>\n",
       "      <td>2.2</td>\n",
       "      <td>10.0</td>\n",
       "      <td>8.0</td>\n",
       "    </tr>\n",
       "  </tbody>\n",
       "</table>\n",
       "</div>"
      ],
      "text/plain": [
       "        id        station_id                 time  PM25_Concentration  \\\n",
       "0  2943570         dongsi_aq  2018-04-02 01:00:00               265.0   \n",
       "1  2943571        tiantan_aq  2018-04-02 01:00:00               254.0   \n",
       "2  2943572       guanyuan_aq  2018-04-02 01:00:00               266.0   \n",
       "3  2943573  wanshouxigong_aq  2018-04-02 01:00:00               266.0   \n",
       "4  2943574   aotizhongxin_aq  2018-04-02 01:00:00               255.0   \n",
       "\n",
       "   PM10_Concentration  NO2_Concentration  CO_Concentration  O3_Concentration  \\\n",
       "0                 NaN               69.0               2.3              22.0   \n",
       "1                 NaN               87.0               2.3              13.0   \n",
       "2                 NaN               87.0               2.3              18.0   \n",
       "3               291.0               84.0               2.4              13.0   \n",
       "4                 NaN               74.0               2.2              10.0   \n",
       "\n",
       "   SO2_Concentration  \n",
       "0               10.0  \n",
       "1                6.0  \n",
       "2               12.0  \n",
       "3               13.0  \n",
       "4                8.0  "
      ]
     },
     "execution_count": 23,
     "metadata": {},
     "output_type": "execute_result"
    }
   ],
   "source": [
    "bj_air = pd.read_csv(args.path_bj_air)\n",
    "bj_air.head()"
   ]
  },
  {
   "cell_type": "code",
   "execution_count": 18,
   "metadata": {},
   "outputs": [
    {
     "data": {
      "image/png": "[encoded data removed]",
      "text/plain": [
       "<matplotlib.figure.Figure at 0x1e81a3d5898>"
      ]
     },
     "metadata": {},
     "output_type": "display_data"
    }
   ],
   "source": [
    "col = ['station_id', 'time', 'PM25_Concentration', 'PM10_Concentration',\n",
    "       'NO2_Concentration', 'CO_Concentration', 'O3_Concentration',\n",
    "       'SO2_Concentration']\n",
    "\n",
    "bj_air[col].hist(bins=15, color='steelblue', edgecolor='black', linewidth=1.0,\n",
    "              xlabelsize=8, ylabelsize=8, grid=False)  \n",
    "plt.tight_layout(rect=(0, 0, 1.2, 1.2))"
   ]
  },
  {
   "cell_type": "code",
   "execution_count": 19,
   "metadata": {},
   "outputs": [
    {
     "data": {
      "text/html": [
       "<div>\n",
       "<style>\n",
       "    .dataframe thead tr:only-child th {\n",
       "        text-align: right;\n",
       "    }\n",
       "\n",
       "    .dataframe thead th {\n",
       "        text-align: left;\n",
       "    }\n",
       "\n",
       "    .dataframe tbody tr th {\n",
       "        vertical-align: top;\n",
       "    }\n",
       "</style>\n",
       "<table border=\"1\" class=\"dataframe\">\n",
       "  <thead>\n",
       "    <tr style=\"text-align: right;\">\n",
       "      <th></th>\n",
       "      <th>PM25_Concentration</th>\n",
       "      <th>PM10_Concentration</th>\n",
       "      <th>NO2_Concentration</th>\n",
       "      <th>CO_Concentration</th>\n",
       "      <th>O3_Concentration</th>\n",
       "      <th>SO2_Concentration</th>\n",
       "    </tr>\n",
       "  </thead>\n",
       "  <tbody>\n",
       "    <tr>\n",
       "      <th>count</th>\n",
       "      <td>737.00</td>\n",
       "      <td>483.00</td>\n",
       "      <td>744.00</td>\n",
       "      <td>744.00</td>\n",
       "      <td>745.00</td>\n",
       "      <td>736.00</td>\n",
       "    </tr>\n",
       "    <tr>\n",
       "      <th>mean</th>\n",
       "      <td>175.56</td>\n",
       "      <td>247.69</td>\n",
       "      <td>49.73</td>\n",
       "      <td>1.45</td>\n",
       "      <td>104.38</td>\n",
       "      <td>9.83</td>\n",
       "    </tr>\n",
       "    <tr>\n",
       "      <th>std</th>\n",
       "      <td>113.81</td>\n",
       "      <td>107.44</td>\n",
       "      <td>29.67</td>\n",
       "      <td>0.89</td>\n",
       "      <td>52.18</td>\n",
       "      <td>6.38</td>\n",
       "    </tr>\n",
       "    <tr>\n",
       "      <th>min</th>\n",
       "      <td>3.00</td>\n",
       "      <td>6.00</td>\n",
       "      <td>2.00</td>\n",
       "      <td>0.10</td>\n",
       "      <td>3.00</td>\n",
       "      <td>2.00</td>\n",
       "    </tr>\n",
       "    <tr>\n",
       "      <th>25%</th>\n",
       "      <td>34.00</td>\n",
       "      <td>167.00</td>\n",
       "      <td>22.00</td>\n",
       "      <td>0.50</td>\n",
       "      <td>70.00</td>\n",
       "      <td>4.00</td>\n",
       "    </tr>\n",
       "    <tr>\n",
       "      <th>50%</th>\n",
       "      <td>235.00</td>\n",
       "      <td>255.00</td>\n",
       "      <td>52.00</td>\n",
       "      <td>1.80</td>\n",
       "      <td>89.00</td>\n",
       "      <td>9.50</td>\n",
       "    </tr>\n",
       "    <tr>\n",
       "      <th>75%</th>\n",
       "      <td>267.00</td>\n",
       "      <td>307.50</td>\n",
       "      <td>70.25</td>\n",
       "      <td>2.10</td>\n",
       "      <td>140.00</td>\n",
       "      <td>14.00</td>\n",
       "    </tr>\n",
       "    <tr>\n",
       "      <th>max</th>\n",
       "      <td>396.00</td>\n",
       "      <td>1136.00</td>\n",
       "      <td>177.00</td>\n",
       "      <td>4.30</td>\n",
       "      <td>252.00</td>\n",
       "      <td>31.00</td>\n",
       "    </tr>\n",
       "  </tbody>\n",
       "</table>\n",
       "</div>"
      ],
      "text/plain": [
       "       PM25_Concentration  PM10_Concentration  NO2_Concentration  \\\n",
       "count              737.00              483.00             744.00   \n",
       "mean               175.56              247.69              49.73   \n",
       "std                113.81              107.44              29.67   \n",
       "min                  3.00                6.00               2.00   \n",
       "25%                 34.00              167.00              22.00   \n",
       "50%                235.00              255.00              52.00   \n",
       "75%                267.00              307.50              70.25   \n",
       "max                396.00             1136.00             177.00   \n",
       "\n",
       "       CO_Concentration  O3_Concentration  SO2_Concentration  \n",
       "count            744.00            745.00             736.00  \n",
       "mean               1.45            104.38               9.83  \n",
       "std                0.89             52.18               6.38  \n",
       "min                0.10              3.00               2.00  \n",
       "25%                0.50             70.00               4.00  \n",
       "50%                1.80             89.00               9.50  \n",
       "75%                2.10            140.00              14.00  \n",
       "max                4.30            252.00              31.00  "
      ]
     },
     "execution_count": 19,
     "metadata": {},
     "output_type": "execute_result"
    }
   ],
   "source": [
    "round(bj_air[col].describe(),2)"
   ]
  },
  {
   "cell_type": "code",
   "execution_count": 36,
   "metadata": {},
   "outputs": [
    {
     "data": {
      "text/plain": [
       "<matplotlib.axes._subplots.AxesSubplot at 0x1e81a1fcb00>"
      ]
     },
     "execution_count": 36,
     "metadata": {},
     "output_type": "execute_result"
    },
    {
     "data": {
      "image/png": "[encoded data removed]",
      "text/plain": [
       "<matplotlib.figure.Figure at 0x1e81a1d2860>"
      ]
     },
     "metadata": {},
     "output_type": "display_data"
    }
   ],
   "source": [
    "# np.log(bj_air['PM10_Concentration']).hist(bins=15, color='steelblue', edgecolor='black', linewidth=1.0,\n",
    "#               xlabelsize=8, ylabelsize=8, grid=False)  "
   ]
  },
  {
   "cell_type": "code",
   "execution_count": 38,
   "metadata": {},
   "outputs": [
    {
     "data": {
      "image/png": "[encoded data removed]",
      "text/plain": [
       "<matplotlib.figure.Figure at 0x1e8192f1908>"
      ]
     },
     "metadata": {},
     "output_type": "display_data"
    }
   ],
   "source": [
    "# Correlation Matrix Heatmap\n",
    "f, ax = plt.subplots(figsize=(10, 6))\n",
    "corr = bj_air[col].corr()\n",
    "hm = sns.heatmap(round(corr,2), annot=True, ax=ax, cmap=\"coolwarm\",fmt='.2f',\n",
    "                 linewidths=.05)\n",
    "f.subplots_adjust(top=0.93)\n",
    "t= f.suptitle('Beijing airquality Correlation Heatmap', fontsize=14)"
   ]
  },
  {
   "cell_type": "code",
   "execution_count": 40,
   "metadata": {},
   "outputs": [
    {
     "data": {
      "text/html": [
       "<div>\n",
       "<style>\n",
       "    .dataframe thead tr:only-child th {\n",
       "        text-align: right;\n",
       "    }\n",
       "\n",
       "    .dataframe thead th {\n",
       "        text-align: left;\n",
       "    }\n",
       "\n",
       "    .dataframe tbody tr th {\n",
       "        vertical-align: top;\n",
       "    }\n",
       "</style>\n",
       "<table border=\"1\" class=\"dataframe\">\n",
       "  <thead>\n",
       "    <tr style=\"text-align: right;\">\n",
       "      <th></th>\n",
       "      <th>id</th>\n",
       "      <th>station_id</th>\n",
       "      <th>time</th>\n",
       "      <th>weather</th>\n",
       "      <th>temperature</th>\n",
       "      <th>pressure</th>\n",
       "      <th>humidity</th>\n",
       "      <th>wind_speed</th>\n",
       "      <th>wind_direction</th>\n",
       "    </tr>\n",
       "  </thead>\n",
       "  <tbody>\n",
       "    <tr>\n",
       "      <th>0</th>\n",
       "      <td>2062930</td>\n",
       "      <td>shunyi_meo</td>\n",
       "      <td>2018-04-02 01:00:00</td>\n",
       "      <td>Hail</td>\n",
       "      <td>15.2</td>\n",
       "      <td>1003.1</td>\n",
       "      <td>80.0</td>\n",
       "      <td>0.8</td>\n",
       "      <td>173.0</td>\n",
       "    </tr>\n",
       "    <tr>\n",
       "      <th>1</th>\n",
       "      <td>2062931</td>\n",
       "      <td>hadian_meo</td>\n",
       "      <td>2018-04-02 01:00:00</td>\n",
       "      <td>Hail</td>\n",
       "      <td>16.5</td>\n",
       "      <td>1000.7</td>\n",
       "      <td>73.0</td>\n",
       "      <td>1.7</td>\n",
       "      <td>31.0</td>\n",
       "    </tr>\n",
       "    <tr>\n",
       "      <th>2</th>\n",
       "      <td>2062932</td>\n",
       "      <td>yanqing_meo</td>\n",
       "      <td>2018-04-02 01:00:00</td>\n",
       "      <td>Hail</td>\n",
       "      <td>15.0</td>\n",
       "      <td>949.8</td>\n",
       "      <td>52.0</td>\n",
       "      <td>0.5</td>\n",
       "      <td>265.0</td>\n",
       "    </tr>\n",
       "    <tr>\n",
       "      <th>3</th>\n",
       "      <td>2062933</td>\n",
       "      <td>miyun_meo</td>\n",
       "      <td>2018-04-02 01:00:00</td>\n",
       "      <td>Hail</td>\n",
       "      <td>16.2</td>\n",
       "      <td>997.9</td>\n",
       "      <td>75.0</td>\n",
       "      <td>1.4</td>\n",
       "      <td>220.0</td>\n",
       "    </tr>\n",
       "    <tr>\n",
       "      <th>4</th>\n",
       "      <td>2062934</td>\n",
       "      <td>huairou_meo</td>\n",
       "      <td>2018-04-02 01:00:00</td>\n",
       "      <td>Hail</td>\n",
       "      <td>16.4</td>\n",
       "      <td>997.3</td>\n",
       "      <td>70.0</td>\n",
       "      <td>1.6</td>\n",
       "      <td>239.0</td>\n",
       "    </tr>\n",
       "  </tbody>\n",
       "</table>\n",
       "</div>"
      ],
      "text/plain": [
       "        id   station_id                 time weather  temperature  pressure  \\\n",
       "0  2062930   shunyi_meo  2018-04-02 01:00:00    Hail         15.2    1003.1   \n",
       "1  2062931   hadian_meo  2018-04-02 01:00:00    Hail         16.5    1000.7   \n",
       "2  2062932  yanqing_meo  2018-04-02 01:00:00    Hail         15.0     949.8   \n",
       "3  2062933    miyun_meo  2018-04-02 01:00:00    Hail         16.2     997.9   \n",
       "4  2062934  huairou_meo  2018-04-02 01:00:00    Hail         16.4     997.3   \n",
       "\n",
       "   humidity  wind_speed  wind_direction  \n",
       "0      80.0         0.8           173.0  \n",
       "1      73.0         1.7            31.0  \n",
       "2      52.0         0.5           265.0  \n",
       "3      75.0         1.4           220.0  \n",
       "4      70.0         1.6           239.0  "
      ]
     },
     "execution_count": 40,
     "metadata": {},
     "output_type": "execute_result"
    }
   ],
   "source": [
    "bj_mete = pd.read_csv(args.path_bj_mete)\n",
    "bj_mete.head()"
   ]
  },
  {
   "cell_type": "code",
   "execution_count": 42,
   "metadata": {},
   "outputs": [
    {
     "data": {
      "image/png": "[encoded data removed]",
      "text/plain": [
       "<matplotlib.figure.Figure at 0x1e81b67c668>"
      ]
     },
     "metadata": {},
     "output_type": "display_data"
    }
   ],
   "source": [
    "mete_col = ['weather', 'temperature', 'pressure',\n",
    "       'humidity', 'wind_speed', 'wind_direction']\n",
    "\n",
    "bj_mete[mete_col].hist(bins=15, color='steelblue', edgecolor='black', linewidth=1.0,\n",
    "              xlabelsize=8, ylabelsize=8, grid=False)  \n",
    "plt.tight_layout(rect=(0, 0, 1.2, 1.2))"
   ]
  },
  {
   "cell_type": "code",
   "execution_count": 44,
   "metadata": {},
   "outputs": [
    {
     "data": {
      "text/html": [
       "<div>\n",
       "<style>\n",
       "    .dataframe thead tr:only-child th {\n",
       "        text-align: right;\n",
       "    }\n",
       "\n",
       "    .dataframe thead th {\n",
       "        text-align: left;\n",
       "    }\n",
       "\n",
       "    .dataframe tbody tr th {\n",
       "        vertical-align: top;\n",
       "    }\n",
       "</style>\n",
       "<table border=\"1\" class=\"dataframe\">\n",
       "  <thead>\n",
       "    <tr style=\"text-align: right;\">\n",
       "      <th></th>\n",
       "      <th>temperature</th>\n",
       "      <th>pressure</th>\n",
       "      <th>humidity</th>\n",
       "      <th>wind_speed</th>\n",
       "      <th>wind_direction</th>\n",
       "    </tr>\n",
       "  </thead>\n",
       "  <tbody>\n",
       "    <tr>\n",
       "      <th>count</th>\n",
       "      <td>414.00</td>\n",
       "      <td>414.00</td>\n",
       "      <td>414.00</td>\n",
       "      <td>414.00</td>\n",
       "      <td>414.00</td>\n",
       "    </tr>\n",
       "    <tr>\n",
       "      <th>mean</th>\n",
       "      <td>19.70</td>\n",
       "      <td>995.05</td>\n",
       "      <td>37.94</td>\n",
       "      <td>2.88</td>\n",
       "      <td>7343.39</td>\n",
       "    </tr>\n",
       "    <tr>\n",
       "      <th>std</th>\n",
       "      <td>4.01</td>\n",
       "      <td>18.69</td>\n",
       "      <td>18.75</td>\n",
       "      <td>1.73</td>\n",
       "      <td>84826.94</td>\n",
       "    </tr>\n",
       "    <tr>\n",
       "      <th>min</th>\n",
       "      <td>9.00</td>\n",
       "      <td>946.50</td>\n",
       "      <td>9.00</td>\n",
       "      <td>0.10</td>\n",
       "      <td>1.00</td>\n",
       "    </tr>\n",
       "    <tr>\n",
       "      <th>25%</th>\n",
       "      <td>16.50</td>\n",
       "      <td>995.20</td>\n",
       "      <td>20.00</td>\n",
       "      <td>1.50</td>\n",
       "      <td>51.00</td>\n",
       "    </tr>\n",
       "    <tr>\n",
       "      <th>50%</th>\n",
       "      <td>19.95</td>\n",
       "      <td>1000.75</td>\n",
       "      <td>39.50</td>\n",
       "      <td>2.35</td>\n",
       "      <td>78.00</td>\n",
       "    </tr>\n",
       "    <tr>\n",
       "      <th>75%</th>\n",
       "      <td>22.80</td>\n",
       "      <td>1007.58</td>\n",
       "      <td>53.00</td>\n",
       "      <td>3.98</td>\n",
       "      <td>124.75</td>\n",
       "    </tr>\n",
       "    <tr>\n",
       "      <th>max</th>\n",
       "      <td>29.60</td>\n",
       "      <td>1019.20</td>\n",
       "      <td>82.00</td>\n",
       "      <td>8.50</td>\n",
       "      <td>999017.00</td>\n",
       "    </tr>\n",
       "  </tbody>\n",
       "</table>\n",
       "</div>"
      ],
      "text/plain": [
       "       temperature  pressure  humidity  wind_speed  wind_direction\n",
       "count       414.00    414.00    414.00      414.00          414.00\n",
       "mean         19.70    995.05     37.94        2.88         7343.39\n",
       "std           4.01     18.69     18.75        1.73        84826.94\n",
       "min           9.00    946.50      9.00        0.10            1.00\n",
       "25%          16.50    995.20     20.00        1.50           51.00\n",
       "50%          19.95   1000.75     39.50        2.35           78.00\n",
       "75%          22.80   1007.58     53.00        3.98          124.75\n",
       "max          29.60   1019.20     82.00        8.50       999017.00"
      ]
     },
     "execution_count": 44,
     "metadata": {},
     "output_type": "execute_result"
    }
   ],
   "source": [
    "round(bj_mete[mete_col].describe(),2)"
   ]
  },
  {
   "cell_type": "code",
   "execution_count": 49,
   "metadata": {},
   "outputs": [],
   "source": [
    "bj_grid = pd.read_csv(args.path_bj_grid)"
   ]
  },
  {
   "cell_type": "code",
   "execution_count": 46,
   "metadata": {},
   "outputs": [
    {
     "data": {
      "text/plain": [
       "(770, 9)"
      ]
     },
     "execution_count": 46,
     "metadata": {},
     "output_type": "execute_result"
    }
   ],
   "source": [
    "bj_air.shape"
   ]
  },
  {
   "cell_type": "code",
   "execution_count": 48,
   "metadata": {},
   "outputs": [
    {
     "data": {
      "text/plain": [
       "(414, 9)"
      ]
     },
     "execution_count": 48,
     "metadata": {},
     "output_type": "execute_result"
    }
   ],
   "source": [
    "bj_mete.shape"
   ]
  },
  {
   "cell_type": "code",
   "execution_count": 50,
   "metadata": {},
   "outputs": [
    {
     "data": {
      "text/plain": [
       "(15624, 9)"
      ]
     },
     "execution_count": 50,
     "metadata": {},
     "output_type": "execute_result"
    }
   ],
   "source": [
    "bj_grid.shape"
   ]
  },
  {
   "cell_type": "code",
   "execution_count": null,
   "metadata": {
    "collapsed": true
   },
   "outputs": [],
   "source": []
  }
 ],
 "metadata": {
  "kernelspec": {
   "display_name": "Python 3",
   "language": "python",
   "name": "python3"
  },
  "language_info": {
   "codemirror_mode": {
    "name": "ipython",
    "version": 3
   },
   "file_extension": ".py",
   "mimetype": "text/x-python",
   "name": "python",
   "nbconvert_exporter": "python",
   "pygments_lexer": "ipython3",
   "version": "3.6.2"
  }
 },
 "nbformat": 4,
 "nbformat_minor": 2
}
