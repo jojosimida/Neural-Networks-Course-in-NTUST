{
 "cells": [
  {
   "cell_type": "code",
   "execution_count": 7,
   "metadata": {
    "collapsed": true
   },
   "outputs": [],
   "source": [
    "import pandas as pd\n",
    "import data_API\n",
    "import matplotlib.pyplot as plt\n",
    "from mpl_toolkits.mplot3d import Axes3D\n",
    "import matplotlib as mpl\n",
    "import numpy as np\n",
    "import seaborn as sns\n",
    "\n",
    "%matplotlib inline"
   ]
  },
  {
   "cell_type": "code",
   "execution_count": 8,
   "metadata": {},
   "outputs": [
    {
     "name": "stdout",
     "output_type": "stream",
     "text": [
      "done\n",
      "done\n",
      "done\n",
      "done\n",
      "done\n"
     ]
    }
   ],
   "source": [
    "args = data_API.Param('2018-04-22-0', '2018-04-22-23')\n",
    "args.get_data()"
   ]
  },
  {
   "cell_type": "code",
   "execution_count": 9,
   "metadata": {},
   "outputs": [
    {
     "data": {
      "text/html": [
       "<div>\n",
       "<style scoped>\n",
       "    .dataframe tbody tr th:only-of-type {\n",
       "        vertical-align: middle;\n",
       "    }\n",
       "\n",
       "    .dataframe tbody tr th {\n",
       "        vertical-align: top;\n",
       "    }\n",
       "\n",
       "    .dataframe thead th {\n",
       "        text-align: right;\n",
       "    }\n",
       "</style>\n",
       "<table border=\"1\" class=\"dataframe\">\n",
       "  <thead>\n",
       "    <tr style=\"text-align: right;\">\n",
       "      <th></th>\n",
       "      <th>id</th>\n",
       "      <th>station_id</th>\n",
       "      <th>time</th>\n",
       "      <th>PM25_Concentration</th>\n",
       "      <th>PM10_Concentration</th>\n",
       "      <th>NO2_Concentration</th>\n",
       "      <th>CO_Concentration</th>\n",
       "      <th>O3_Concentration</th>\n",
       "      <th>SO2_Concentration</th>\n",
       "    </tr>\n",
       "  </thead>\n",
       "  <tbody>\n",
       "    <tr>\n",
       "      <th>0</th>\n",
       "      <td>2969148</td>\n",
       "      <td>dongsi_aq</td>\n",
       "      <td>2018-04-22 00:00:00</td>\n",
       "      <td>5.0</td>\n",
       "      <td>7.0</td>\n",
       "      <td>21.0</td>\n",
       "      <td>0.3</td>\n",
       "      <td>65.0</td>\n",
       "      <td>2.0</td>\n",
       "    </tr>\n",
       "    <tr>\n",
       "      <th>1</th>\n",
       "      <td>2969149</td>\n",
       "      <td>tiantan_aq</td>\n",
       "      <td>2018-04-22 00:00:00</td>\n",
       "      <td>13.0</td>\n",
       "      <td>15.0</td>\n",
       "      <td>32.0</td>\n",
       "      <td>0.3</td>\n",
       "      <td>58.0</td>\n",
       "      <td>2.0</td>\n",
       "    </tr>\n",
       "    <tr>\n",
       "      <th>2</th>\n",
       "      <td>2969150</td>\n",
       "      <td>guanyuan_aq</td>\n",
       "      <td>2018-04-22 00:00:00</td>\n",
       "      <td>5.0</td>\n",
       "      <td>NaN</td>\n",
       "      <td>33.0</td>\n",
       "      <td>0.4</td>\n",
       "      <td>57.0</td>\n",
       "      <td>2.0</td>\n",
       "    </tr>\n",
       "    <tr>\n",
       "      <th>3</th>\n",
       "      <td>2969151</td>\n",
       "      <td>wanshouxigong_aq</td>\n",
       "      <td>2018-04-22 00:00:00</td>\n",
       "      <td>7.0</td>\n",
       "      <td>NaN</td>\n",
       "      <td>23.0</td>\n",
       "      <td>0.4</td>\n",
       "      <td>65.0</td>\n",
       "      <td>2.0</td>\n",
       "    </tr>\n",
       "    <tr>\n",
       "      <th>4</th>\n",
       "      <td>2969152</td>\n",
       "      <td>aotizhongxin_aq</td>\n",
       "      <td>2018-04-22 00:00:00</td>\n",
       "      <td>8.0</td>\n",
       "      <td>NaN</td>\n",
       "      <td>23.0</td>\n",
       "      <td>0.3</td>\n",
       "      <td>64.0</td>\n",
       "      <td>2.0</td>\n",
       "    </tr>\n",
       "  </tbody>\n",
       "</table>\n",
       "</div>"
      ],
      "text/plain": [
       "        id        station_id                 time  PM25_Concentration  \\\n",
       "0  2969148         dongsi_aq  2018-04-22 00:00:00                 5.0   \n",
       "1  2969149        tiantan_aq  2018-04-22 00:00:00                13.0   \n",
       "2  2969150       guanyuan_aq  2018-04-22 00:00:00                 5.0   \n",
       "3  2969151  wanshouxigong_aq  2018-04-22 00:00:00                 7.0   \n",
       "4  2969152   aotizhongxin_aq  2018-04-22 00:00:00                 8.0   \n",
       "\n",
       "   PM10_Concentration  NO2_Concentration  CO_Concentration  O3_Concentration  \\\n",
       "0                 7.0               21.0               0.3              65.0   \n",
       "1                15.0               32.0               0.3              58.0   \n",
       "2                 NaN               33.0               0.4              57.0   \n",
       "3                 NaN               23.0               0.4              65.0   \n",
       "4                 NaN               23.0               0.3              64.0   \n",
       "\n",
       "   SO2_Concentration  \n",
       "0                2.0  \n",
       "1                2.0  \n",
       "2                2.0  \n",
       "3                2.0  \n",
       "4                2.0  "
      ]
     },
     "execution_count": 9,
     "metadata": {},
     "output_type": "execute_result"
    }
   ],
   "source": [
    "bj_air = pd.read_csv(args.path_bj_air)\n",
    "bj_air.head()"
   ]
  },
  {
   "cell_type": "code",
   "execution_count": 10,
   "metadata": {},
   "outputs": [
    {
     "data": {
      "image/png": "[encoded data removed]",
      "text/plain": [
       "<matplotlib.figure.Figure at 0x14380026320>"
      ]
     },
     "metadata": {},
     "output_type": "display_data"
    }
   ],
   "source": [
    "col = ['station_id', 'time', 'PM25_Concentration', 'PM10_Concentration',\n",
    "       'NO2_Concentration', 'CO_Concentration', 'O3_Concentration',\n",
    "       'SO2_Concentration']\n",
    "\n",
    "bj_air[col].hist(bins=15, color='steelblue', edgecolor='black', linewidth=1.0,\n",
    "              xlabelsize=8, ylabelsize=8, grid=False)  \n",
    "plt.tight_layout(rect=(0, 0, 1.2, 1.2))"
   ]
  },
  {
   "cell_type": "code",
   "execution_count": 11,
   "metadata": {},
   "outputs": [
    {
     "data": {
      "text/html": [
       "<div>\n",
       "<style scoped>\n",
       "    .dataframe tbody tr th:only-of-type {\n",
       "        vertical-align: middle;\n",
       "    }\n",
       "\n",
       "    .dataframe tbody tr th {\n",
       "        vertical-align: top;\n",
       "    }\n",
       "\n",
       "    .dataframe thead th {\n",
       "        text-align: right;\n",
       "    }\n",
       "</style>\n",
       "<table border=\"1\" class=\"dataframe\">\n",
       "  <thead>\n",
       "    <tr style=\"text-align: right;\">\n",
       "      <th></th>\n",
       "      <th>PM25_Concentration</th>\n",
       "      <th>PM10_Concentration</th>\n",
       "      <th>NO2_Concentration</th>\n",
       "      <th>CO_Concentration</th>\n",
       "      <th>O3_Concentration</th>\n",
       "      <th>SO2_Concentration</th>\n",
       "    </tr>\n",
       "  </thead>\n",
       "  <tbody>\n",
       "    <tr>\n",
       "      <th>count</th>\n",
       "      <td>655.00</td>\n",
       "      <td>468.00</td>\n",
       "      <td>656.00</td>\n",
       "      <td>655.00</td>\n",
       "      <td>647.00</td>\n",
       "      <td>656.00</td>\n",
       "    </tr>\n",
       "    <tr>\n",
       "      <th>mean</th>\n",
       "      <td>12.40</td>\n",
       "      <td>29.06</td>\n",
       "      <td>25.70</td>\n",
       "      <td>0.38</td>\n",
       "      <td>64.54</td>\n",
       "      <td>2.23</td>\n",
       "    </tr>\n",
       "    <tr>\n",
       "      <th>std</th>\n",
       "      <td>4.51</td>\n",
       "      <td>17.66</td>\n",
       "      <td>16.62</td>\n",
       "      <td>0.10</td>\n",
       "      <td>20.30</td>\n",
       "      <td>0.68</td>\n",
       "    </tr>\n",
       "    <tr>\n",
       "      <th>min</th>\n",
       "      <td>3.00</td>\n",
       "      <td>6.00</td>\n",
       "      <td>2.00</td>\n",
       "      <td>0.10</td>\n",
       "      <td>2.00</td>\n",
       "      <td>2.00</td>\n",
       "    </tr>\n",
       "    <tr>\n",
       "      <th>25%</th>\n",
       "      <td>9.00</td>\n",
       "      <td>18.00</td>\n",
       "      <td>14.00</td>\n",
       "      <td>0.30</td>\n",
       "      <td>51.50</td>\n",
       "      <td>2.00</td>\n",
       "    </tr>\n",
       "    <tr>\n",
       "      <th>50%</th>\n",
       "      <td>12.00</td>\n",
       "      <td>25.00</td>\n",
       "      <td>22.00</td>\n",
       "      <td>0.40</td>\n",
       "      <td>66.00</td>\n",
       "      <td>2.00</td>\n",
       "    </tr>\n",
       "    <tr>\n",
       "      <th>75%</th>\n",
       "      <td>15.00</td>\n",
       "      <td>36.00</td>\n",
       "      <td>34.00</td>\n",
       "      <td>0.40</td>\n",
       "      <td>80.50</td>\n",
       "      <td>2.00</td>\n",
       "    </tr>\n",
       "    <tr>\n",
       "      <th>max</th>\n",
       "      <td>30.00</td>\n",
       "      <td>190.00</td>\n",
       "      <td>93.00</td>\n",
       "      <td>0.70</td>\n",
       "      <td>114.00</td>\n",
       "      <td>6.00</td>\n",
       "    </tr>\n",
       "  </tbody>\n",
       "</table>\n",
       "</div>"
      ],
      "text/plain": [
       "       PM25_Concentration  PM10_Concentration  NO2_Concentration  \\\n",
       "count              655.00              468.00             656.00   \n",
       "mean                12.40               29.06              25.70   \n",
       "std                  4.51               17.66              16.62   \n",
       "min                  3.00                6.00               2.00   \n",
       "25%                  9.00               18.00              14.00   \n",
       "50%                 12.00               25.00              22.00   \n",
       "75%                 15.00               36.00              34.00   \n",
       "max                 30.00              190.00              93.00   \n",
       "\n",
       "       CO_Concentration  O3_Concentration  SO2_Concentration  \n",
       "count            655.00            647.00             656.00  \n",
       "mean               0.38             64.54               2.23  \n",
       "std                0.10             20.30               0.68  \n",
       "min                0.10              2.00               2.00  \n",
       "25%                0.30             51.50               2.00  \n",
       "50%                0.40             66.00               2.00  \n",
       "75%                0.40             80.50               2.00  \n",
       "max                0.70            114.00               6.00  "
      ]
     },
     "execution_count": 11,
     "metadata": {},
     "output_type": "execute_result"
    }
   ],
   "source": [
    "round(bj_air[col].describe(),2)"
   ]
  },
  {
   "cell_type": "code",
   "execution_count": 12,
   "metadata": {},
   "outputs": [],
   "source": [
    "# np.log(bj_air['PM10_Concentration']).hist(bins=15, color='steelblue', edgecolor='black', linewidth=1.0,\n",
    "#               xlabelsize=8, ylabelsize=8, grid=False)  "
   ]
  },
  {
   "cell_type": "code",
   "execution_count": 13,
   "metadata": {},
   "outputs": [
    {
     "data": {
      "image/png": "[encoded data removed]",
      "text/plain": [
       "<matplotlib.figure.Figure at 0x143824459b0>"
      ]
     },
     "metadata": {},
     "output_type": "display_data"
    }
   ],
   "source": [
    "# Correlation Matrix Heatmap\n",
    "f, ax = plt.subplots(figsize=(10, 6))\n",
    "corr = bj_air[col].corr()\n",
    "hm = sns.heatmap(round(corr,2), annot=True, ax=ax, cmap=\"coolwarm\",fmt='.2f',\n",
    "                 linewidths=.05)\n",
    "f.subplots_adjust(top=0.93)\n",
    "t= f.suptitle('Beijing airquality Correlation Heatmap', fontsize=14)"
   ]
  },
  {
   "cell_type": "code",
   "execution_count": 14,
   "metadata": {},
   "outputs": [
    {
     "data": {
      "text/html": [
       "<div>\n",
       "<style scoped>\n",
       "    .dataframe tbody tr th:only-of-type {\n",
       "        vertical-align: middle;\n",
       "    }\n",
       "\n",
       "    .dataframe tbody tr th {\n",
       "        vertical-align: top;\n",
       "    }\n",
       "\n",
       "    .dataframe thead th {\n",
       "        text-align: right;\n",
       "    }\n",
       "</style>\n",
       "<table border=\"1\" class=\"dataframe\">\n",
       "  <thead>\n",
       "    <tr style=\"text-align: right;\">\n",
       "      <th></th>\n",
       "      <th>id</th>\n",
       "      <th>station_id</th>\n",
       "      <th>time</th>\n",
       "      <th>weather</th>\n",
       "      <th>temperature</th>\n",
       "      <th>pressure</th>\n",
       "      <th>humidity</th>\n",
       "      <th>wind_direction</th>\n",
       "      <th>wind_speed</th>\n",
       "    </tr>\n",
       "  </thead>\n",
       "  <tbody>\n",
       "    <tr>\n",
       "      <th>0</th>\n",
       "      <td>2788682</td>\n",
       "      <td>shunyi_meo</td>\n",
       "      <td>2018-04-22 00:00:00</td>\n",
       "      <td>Sunny/clear</td>\n",
       "      <td>12.7</td>\n",
       "      <td>1017.4</td>\n",
       "      <td>53.0</td>\n",
       "      <td>3.7</td>\n",
       "      <td>27.0</td>\n",
       "    </tr>\n",
       "    <tr>\n",
       "      <th>1</th>\n",
       "      <td>2788683</td>\n",
       "      <td>hadian_meo</td>\n",
       "      <td>2018-04-22 00:00:00</td>\n",
       "      <td>Sunny/clear</td>\n",
       "      <td>11.7</td>\n",
       "      <td>1015.4</td>\n",
       "      <td>89.0</td>\n",
       "      <td>0.9</td>\n",
       "      <td>20.0</td>\n",
       "    </tr>\n",
       "    <tr>\n",
       "      <th>2</th>\n",
       "      <td>2788684</td>\n",
       "      <td>yanqing_meo</td>\n",
       "      <td>2018-04-22 00:00:00</td>\n",
       "      <td>Sleet</td>\n",
       "      <td>9.0</td>\n",
       "      <td>963.8</td>\n",
       "      <td>66.0</td>\n",
       "      <td>2.0</td>\n",
       "      <td>61.0</td>\n",
       "    </tr>\n",
       "    <tr>\n",
       "      <th>3</th>\n",
       "      <td>2788685</td>\n",
       "      <td>miyun_meo</td>\n",
       "      <td>2018-04-22 00:00:00</td>\n",
       "      <td>Sunny/clear</td>\n",
       "      <td>12.3</td>\n",
       "      <td>1012.6</td>\n",
       "      <td>52.0</td>\n",
       "      <td>3.8</td>\n",
       "      <td>38.0</td>\n",
       "    </tr>\n",
       "    <tr>\n",
       "      <th>4</th>\n",
       "      <td>2788686</td>\n",
       "      <td>huairou_meo</td>\n",
       "      <td>2018-04-22 00:00:00</td>\n",
       "      <td>Sunny/clear</td>\n",
       "      <td>13.3</td>\n",
       "      <td>1011.8</td>\n",
       "      <td>44.0</td>\n",
       "      <td>3.9</td>\n",
       "      <td>42.0</td>\n",
       "    </tr>\n",
       "  </tbody>\n",
       "</table>\n",
       "</div>"
      ],
      "text/plain": [
       "        id   station_id                 time      weather  temperature  \\\n",
       "0  2788682   shunyi_meo  2018-04-22 00:00:00  Sunny/clear         12.7   \n",
       "1  2788683   hadian_meo  2018-04-22 00:00:00  Sunny/clear         11.7   \n",
       "2  2788684  yanqing_meo  2018-04-22 00:00:00        Sleet          9.0   \n",
       "3  2788685    miyun_meo  2018-04-22 00:00:00  Sunny/clear         12.3   \n",
       "4  2788686  huairou_meo  2018-04-22 00:00:00  Sunny/clear         13.3   \n",
       "\n",
       "   pressure  humidity  wind_direction  wind_speed  \n",
       "0    1017.4      53.0             3.7        27.0  \n",
       "1    1015.4      89.0             0.9        20.0  \n",
       "2     963.8      66.0             2.0        61.0  \n",
       "3    1012.6      52.0             3.8        38.0  \n",
       "4    1011.8      44.0             3.9        42.0  "
      ]
     },
     "execution_count": 14,
     "metadata": {},
     "output_type": "execute_result"
    }
   ],
   "source": [
    "bj_mete = pd.read_csv(args.path_bj_mete)\n",
    "bj_mete.head()"
   ]
  },
  {
   "cell_type": "code",
   "execution_count": 15,
   "metadata": {},
   "outputs": [
    {
     "data": {
      "image/png": "[encoded data removed]",
      "text/plain": [
       "<matplotlib.figure.Figure at 0x143824a9b70>"
      ]
     },
     "metadata": {},
     "output_type": "display_data"
    }
   ],
   "source": [
    "mete_col = ['weather', 'temperature', 'pressure',\n",
    "       'humidity', 'wind_speed', 'wind_direction']\n",
    "\n",
    "bj_mete[mete_col].hist(bins=15, color='steelblue', edgecolor='black', linewidth=1.0,\n",
    "              xlabelsize=8, ylabelsize=8, grid=False)  \n",
    "plt.tight_layout(rect=(0, 0, 1.2, 1.2))"
   ]
  },
  {
   "cell_type": "code",
   "execution_count": 16,
   "metadata": {},
   "outputs": [
    {
     "data": {
      "text/html": [
       "<div>\n",
       "<style scoped>\n",
       "    .dataframe tbody tr th:only-of-type {\n",
       "        vertical-align: middle;\n",
       "    }\n",
       "\n",
       "    .dataframe tbody tr th {\n",
       "        vertical-align: top;\n",
       "    }\n",
       "\n",
       "    .dataframe thead th {\n",
       "        text-align: right;\n",
       "    }\n",
       "</style>\n",
       "<table border=\"1\" class=\"dataframe\">\n",
       "  <thead>\n",
       "    <tr style=\"text-align: right;\">\n",
       "      <th></th>\n",
       "      <th>temperature</th>\n",
       "      <th>pressure</th>\n",
       "      <th>humidity</th>\n",
       "      <th>wind_speed</th>\n",
       "      <th>wind_direction</th>\n",
       "    </tr>\n",
       "  </thead>\n",
       "  <tbody>\n",
       "    <tr>\n",
       "      <th>count</th>\n",
       "      <td>400.00</td>\n",
       "      <td>400.00</td>\n",
       "      <td>400.00</td>\n",
       "      <td>400.00</td>\n",
       "      <td>400.00</td>\n",
       "    </tr>\n",
       "    <tr>\n",
       "      <th>mean</th>\n",
       "      <td>2511.62</td>\n",
       "      <td>3502.42</td>\n",
       "      <td>2569.06</td>\n",
       "      <td>55088.68</td>\n",
       "      <td>2501.85</td>\n",
       "    </tr>\n",
       "    <tr>\n",
       "      <th>std</th>\n",
       "      <td>49999.37</td>\n",
       "      <td>49949.71</td>\n",
       "      <td>49996.49</td>\n",
       "      <td>228017.73</td>\n",
       "      <td>49999.86</td>\n",
       "    </tr>\n",
       "    <tr>\n",
       "      <th>min</th>\n",
       "      <td>8.00</td>\n",
       "      <td>962.30</td>\n",
       "      <td>37.00</td>\n",
       "      <td>1.00</td>\n",
       "      <td>0.00</td>\n",
       "    </tr>\n",
       "    <tr>\n",
       "      <th>25%</th>\n",
       "      <td>10.40</td>\n",
       "      <td>1010.40</td>\n",
       "      <td>55.00</td>\n",
       "      <td>35.75</td>\n",
       "      <td>1.00</td>\n",
       "    </tr>\n",
       "    <tr>\n",
       "      <th>50%</th>\n",
       "      <td>11.80</td>\n",
       "      <td>1013.45</td>\n",
       "      <td>70.50</td>\n",
       "      <td>71.00</td>\n",
       "      <td>1.60</td>\n",
       "    </tr>\n",
       "    <tr>\n",
       "      <th>75%</th>\n",
       "      <td>13.00</td>\n",
       "      <td>1016.12</td>\n",
       "      <td>83.00</td>\n",
       "      <td>335.00</td>\n",
       "      <td>2.60</td>\n",
       "    </tr>\n",
       "    <tr>\n",
       "      <th>max</th>\n",
       "      <td>999999.00</td>\n",
       "      <td>999999.00</td>\n",
       "      <td>999999.00</td>\n",
       "      <td>999999.00</td>\n",
       "      <td>999999.00</td>\n",
       "    </tr>\n",
       "  </tbody>\n",
       "</table>\n",
       "</div>"
      ],
      "text/plain": [
       "       temperature   pressure   humidity  wind_speed  wind_direction\n",
       "count       400.00     400.00     400.00      400.00          400.00\n",
       "mean       2511.62    3502.42    2569.06    55088.68         2501.85\n",
       "std       49999.37   49949.71   49996.49   228017.73        49999.86\n",
       "min           8.00     962.30      37.00        1.00            0.00\n",
       "25%          10.40    1010.40      55.00       35.75            1.00\n",
       "50%          11.80    1013.45      70.50       71.00            1.60\n",
       "75%          13.00    1016.12      83.00      335.00            2.60\n",
       "max      999999.00  999999.00  999999.00   999999.00       999999.00"
      ]
     },
     "execution_count": 16,
     "metadata": {},
     "output_type": "execute_result"
    }
   ],
   "source": [
    "round(bj_mete[mete_col].describe(),2)"
   ]
  },
  {
   "cell_type": "code",
   "execution_count": 17,
   "metadata": {
    "collapsed": true
   },
   "outputs": [],
   "source": [
    "bj_grid = pd.read_csv(args.path_bj_grid)"
   ]
  },
  {
   "cell_type": "code",
   "execution_count": 18,
   "metadata": {},
   "outputs": [
    {
     "data": {
      "text/plain": [
       "(700, 9)"
      ]
     },
     "execution_count": 18,
     "metadata": {},
     "output_type": "execute_result"
    }
   ],
   "source": [
    "bj_air.shape"
   ]
  },
  {
   "cell_type": "code",
   "execution_count": 19,
   "metadata": {},
   "outputs": [
    {
     "data": {
      "text/plain": [
       "(400, 9)"
      ]
     },
     "execution_count": 19,
     "metadata": {},
     "output_type": "execute_result"
    }
   ],
   "source": [
    "bj_mete.shape"
   ]
  },
  {
   "cell_type": "code",
   "execution_count": 20,
   "metadata": {},
   "outputs": [
    {
     "data": {
      "text/plain": [
       "(15621, 9)"
      ]
     },
     "execution_count": 20,
     "metadata": {},
     "output_type": "execute_result"
    }
   ],
   "source": [
    "bj_grid.shape"
   ]
  },
  {
   "cell_type": "code",
   "execution_count": null,
   "metadata": {
    "collapsed": true
   },
   "outputs": [],
   "source": []
  }
 ],
 "metadata": {
  "kernelspec": {
   "display_name": "Python 3",
   "language": "python",
   "name": "python3"
  },
  "language_info": {
   "codemirror_mode": {
    "name": "ipython",
    "version": 3
   },
   "file_extension": ".py",
   "mimetype": "text/x-python",
   "name": "python",
   "nbconvert_exporter": "python",
   "pygments_lexer": "ipython3",
   "version": "3.6.2"
  }
 },
 "nbformat": 4,
 "nbformat_minor": 2
}
