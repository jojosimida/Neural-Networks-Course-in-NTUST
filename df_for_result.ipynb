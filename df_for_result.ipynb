{
 "cells": [
  {
   "cell_type": "code",
   "execution_count": 1,
   "metadata": {
    "collapsed": true
   },
   "outputs": [],
   "source": [
    "import pandas as pd\n",
    "import numpy as np\n",
    "from collections import OrderedDict\n",
    "\n",
    "import data_API"
   ]
  },
  {
   "cell_type": "code",
   "execution_count": 2,
   "metadata": {},
   "outputs": [
    {
     "name": "stdout",
     "output_type": "stream",
     "text": [
      "done\n",
      "done\n",
      "done\n",
      "done\n",
      "done\n"
     ]
    }
   ],
   "source": [
    "start_data = '2018-04-27-0'\n",
    "end_data = '2018-04-27-23'\n",
    "\n",
    "args = data_API.Param(start_data, end_data)\n",
    "args.get_data()"
   ]
  },
  {
   "cell_type": "code",
   "execution_count": 3,
   "metadata": {
    "collapsed": true
   },
   "outputs": [],
   "source": [
    "bj_air = pd.read_csv(args.path_bj_air)\n",
    "ld_air = pd.read_csv(args.path_ld_air)\n",
    "submission = pd.read_csv('D:/Program/dataset/KDD2018/KDD_dataset/sample_submissioin.csv')"
   ]
  },
  {
   "cell_type": "code",
   "execution_count": 4,
   "metadata": {},
   "outputs": [
    {
     "data": {
      "text/plain": [
       "['dongsi_aq',\n",
       " 'tiantan_aq',\n",
       " 'guanyuan_aq',\n",
       " 'wanshouxigong_aq',\n",
       " 'aotizhongxin_aq',\n",
       " 'nongzhanguan_aq',\n",
       " 'wanliu_aq',\n",
       " 'beibuxinqu_aq',\n",
       " 'zhiwuyuan_aq',\n",
       " 'fengtaihuayuan_aq',\n",
       " 'yungang_aq',\n",
       " 'gucheng_aq',\n",
       " 'fangshan_aq',\n",
       " 'daxing_aq',\n",
       " 'yizhuang_aq',\n",
       " 'tongzhou_aq',\n",
       " 'shunyi_aq',\n",
       " 'pingchang_aq',\n",
       " 'mentougou_aq',\n",
       " 'pinggu_aq',\n",
       " 'huairou_aq',\n",
       " 'miyun_aq',\n",
       " 'yanqin_aq',\n",
       " 'dingling_aq',\n",
       " 'badaling_aq',\n",
       " 'miyunshuiku_aq',\n",
       " 'donggaocun_aq',\n",
       " 'yongledian_aq',\n",
       " 'yufa_aq',\n",
       " 'liulihe_aq',\n",
       " 'qianmen_aq',\n",
       " 'yongdingmennei_aq',\n",
       " 'xizhimenbei_aq',\n",
       " 'nansanhuan_aq',\n",
       " 'dongsihuan_aq']"
      ]
     },
     "execution_count": 4,
     "metadata": {},
     "output_type": "execute_result"
    }
   ],
   "source": [
    "bj_stat = list(OrderedDict.fromkeys(bj_air['station_id'].values))\n",
    "bj_stat"
   ]
  },
  {
   "cell_type": "code",
   "execution_count": 5,
   "metadata": {},
   "outputs": [
    {
     "data": {
      "text/plain": [
       "['CD1',\n",
       " 'BL0',\n",
       " 'GR4',\n",
       " 'MY7',\n",
       " 'HV1',\n",
       " 'GN3',\n",
       " 'GR9',\n",
       " 'LW2',\n",
       " 'GN0',\n",
       " 'KF1',\n",
       " 'CD9',\n",
       " 'CT3',\n",
       " 'CT2',\n",
       " 'BX9',\n",
       " 'BX1',\n",
       " 'TH4',\n",
       " 'ST5',\n",
       " 'RB7',\n",
       " 'TD5']"
      ]
     },
     "execution_count": 5,
     "metadata": {},
     "output_type": "execute_result"
    }
   ],
   "source": [
    "ld_stat = list(OrderedDict.fromkeys(ld_air['station_id'].values))\n",
    "ld_stat"
   ]
  },
  {
   "cell_type": "code",
   "execution_count": 6,
   "metadata": {},
   "outputs": [
    {
     "data": {
      "text/plain": [
       "['dongsi_aq',\n",
       " 'tiantan_aq',\n",
       " 'guanyuan_aq',\n",
       " 'wanshouxig_aq',\n",
       " 'aotizhongx_aq',\n",
       " 'nongzhangu_aq',\n",
       " 'wanliu_aq',\n",
       " 'beibuxinqu_aq',\n",
       " 'zhiwuyuan_aq',\n",
       " 'fengtaihua_aq',\n",
       " 'yungang_aq',\n",
       " 'gucheng_aq',\n",
       " 'fangshan_aq',\n",
       " 'daxing_aq',\n",
       " 'yizhuang_aq',\n",
       " 'tongzhou_aq',\n",
       " 'shunyi_aq',\n",
       " 'pingchang_aq',\n",
       " 'mentougou_aq',\n",
       " 'pinggu_aq',\n",
       " 'huairou_aq',\n",
       " 'miyun_aq',\n",
       " 'yanqin_aq',\n",
       " 'dingling_aq',\n",
       " 'badaling_aq',\n",
       " 'miyunshuik_aq',\n",
       " 'donggaocun_aq',\n",
       " 'yongledian_aq',\n",
       " 'yufa_aq',\n",
       " 'liulihe_aq',\n",
       " 'qianmen_aq',\n",
       " 'yongdingme_aq',\n",
       " 'xizhimenbe_aq',\n",
       " 'nansanhuan_aq',\n",
       " 'dongsihuan_aq',\n",
       " 'CD1',\n",
       " 'BL0',\n",
       " 'GR4',\n",
       " 'MY7',\n",
       " 'HV1',\n",
       " 'GN3',\n",
       " 'GR9',\n",
       " 'LW2',\n",
       " 'GN0',\n",
       " 'KF1',\n",
       " 'CD9',\n",
       " 'ST5',\n",
       " 'TH4']"
      ]
     },
     "execution_count": 6,
     "metadata": {},
     "output_type": "execute_result"
    }
   ],
   "source": [
    "def cut_station(s):\n",
    "    number_index = s.find('#')\n",
    "    return s[0:number_index]\n",
    "\n",
    "sub_stat = list(OrderedDict.fromkeys(submission['test_id'].apply(cut_station).values))\n",
    "sub_stat"
   ]
  },
  {
   "cell_type": "code",
   "execution_count": 7,
   "metadata": {},
   "outputs": [
    {
     "data": {
      "text/plain": [
       "['CD1',\n",
       " 'BL0',\n",
       " 'GR4',\n",
       " 'MY7',\n",
       " 'HV1',\n",
       " 'GN3',\n",
       " 'GR9',\n",
       " 'LW2',\n",
       " 'GN0',\n",
       " 'KF1',\n",
       " 'CD9',\n",
       " 'ST5',\n",
       " 'TH4']"
      ]
     },
     "execution_count": 7,
     "metadata": {},
     "output_type": "execute_result"
    }
   ],
   "source": [
    "ld_stat = sub_stat[35:]\n",
    "ld_stat"
   ]
  },
  {
   "cell_type": "code",
   "execution_count": 8,
   "metadata": {
    "collapsed": true
   },
   "outputs": [],
   "source": [
    "def get_time(t):\n",
    "    hour = int(t[-8:-6])\n",
    "    return hour\n",
    "\n",
    "\n",
    "def insert_row(idx, df):\n",
    "    df_insert = pd.Series([np.nan])\n",
    "    for i in idx:        \n",
    "        dfA = df.iloc[:i, ]\n",
    "        dfB = df.iloc[i:, ]\n",
    "        \n",
    "        df = dfA.append(df_insert, ignore_index = True).append(dfB).reset_index(drop = True)\n",
    "\n",
    "    return df\n",
    "\n",
    "def fillWithMean(df):\n",
    "    return df.fillna(df.mean())"
   ]
  },
  {
   "cell_type": "code",
   "execution_count": 9,
   "metadata": {
    "collapsed": true
   },
   "outputs": [],
   "source": [
    "air_index = [\"PM25_Concentration\",\"PM10_Concentration\",\"O3_Concentration\"]"
   ]
  },
  {
   "cell_type": "code",
   "execution_count": 10,
   "metadata": {},
   "outputs": [
    {
     "name": "stderr",
     "output_type": "stream",
     "text": [
      "C:\\Anaconda\\lib\\site-packages\\pandas\\core\\frame.py:5175: RuntimeWarning: '<' not supported between instances of 'str' and 'int', sort order is undefined for incomparable objects\n",
      "  other.index).difference(self.columns).tolist()\n"
     ]
    }
   ],
   "source": [
    "df = pd.DataFrame()\n",
    "\n",
    "\n",
    "for i in bj_stat:\n",
    "    sub_air = bj_air[bj_air['station_id']==i].fillna(method='ffill')\n",
    "    get_air_time = sub_air['time'].apply(get_time).values\n",
    "    lost_time = list(set(range(24))-set(get_air_time))\n",
    "    \n",
    "    sub_air = sub_air[air_index]\n",
    "    sub_air = sub_air.reset_index(drop=True)\n",
    "    \n",
    "    new_sub = insert_row(lost_time, sub_air)\n",
    "    \n",
    "    new_sub = new_sub[air_index]\n",
    "    new_sub = new_sub.fillna(method='ffill')\n",
    "    new_sub = new_sub.append(new_sub, ignore_index=True)\n",
    "    \n",
    "    df = df.append(new_sub[air_index],ignore_index=True)\n",
    "\n",
    "    "
   ]
  },
  {
   "cell_type": "code",
   "execution_count": 11,
   "metadata": {},
   "outputs": [
    {
     "data": {
      "text/html": [
       "<div>\n",
       "<style scoped>\n",
       "    .dataframe tbody tr th:only-of-type {\n",
       "        vertical-align: middle;\n",
       "    }\n",
       "\n",
       "    .dataframe tbody tr th {\n",
       "        vertical-align: top;\n",
       "    }\n",
       "\n",
       "    .dataframe thead th {\n",
       "        text-align: right;\n",
       "    }\n",
       "</style>\n",
       "<table border=\"1\" class=\"dataframe\">\n",
       "  <thead>\n",
       "    <tr style=\"text-align: right;\">\n",
       "      <th></th>\n",
       "      <th>PM25_Concentration</th>\n",
       "      <th>PM10_Concentration</th>\n",
       "      <th>O3_Concentration</th>\n",
       "    </tr>\n",
       "  </thead>\n",
       "  <tbody>\n",
       "    <tr>\n",
       "      <th>0</th>\n",
       "      <td>47.0</td>\n",
       "      <td>215.0</td>\n",
       "      <td>51.0</td>\n",
       "    </tr>\n",
       "    <tr>\n",
       "      <th>1</th>\n",
       "      <td>35.0</td>\n",
       "      <td>220.0</td>\n",
       "      <td>79.0</td>\n",
       "    </tr>\n",
       "    <tr>\n",
       "      <th>2</th>\n",
       "      <td>35.0</td>\n",
       "      <td>220.0</td>\n",
       "      <td>79.0</td>\n",
       "    </tr>\n",
       "    <tr>\n",
       "      <th>3</th>\n",
       "      <td>30.0</td>\n",
       "      <td>229.0</td>\n",
       "      <td>119.0</td>\n",
       "    </tr>\n",
       "    <tr>\n",
       "      <th>4</th>\n",
       "      <td>38.0</td>\n",
       "      <td>203.0</td>\n",
       "      <td>133.0</td>\n",
       "    </tr>\n",
       "  </tbody>\n",
       "</table>\n",
       "</div>"
      ],
      "text/plain": [
       "   PM25_Concentration  PM10_Concentration  O3_Concentration\n",
       "0                47.0               215.0              51.0\n",
       "1                35.0               220.0              79.0\n",
       "2                35.0               220.0              79.0\n",
       "3                30.0               229.0             119.0\n",
       "4                38.0               203.0             133.0"
      ]
     },
     "execution_count": 11,
     "metadata": {},
     "output_type": "execute_result"
    }
   ],
   "source": [
    "df.head()"
   ]
  },
  {
   "cell_type": "code",
   "execution_count": 12,
   "metadata": {},
   "outputs": [
    {
     "data": {
      "text/plain": [
       "(1680, 3)"
      ]
     },
     "execution_count": 12,
     "metadata": {},
     "output_type": "execute_result"
    }
   ],
   "source": [
    "df.shape"
   ]
  },
  {
   "cell_type": "code",
   "execution_count": 13,
   "metadata": {},
   "outputs": [
    {
     "data": {
      "text/plain": [
       "PM25_Concentration    True\n",
       "PM10_Concentration    True\n",
       "O3_Concentration      True\n",
       "dtype: bool"
      ]
     },
     "execution_count": 13,
     "metadata": {},
     "output_type": "execute_result"
    }
   ],
   "source": [
    "df.isnull().any()"
   ]
  },
  {
   "cell_type": "code",
   "execution_count": 14,
   "metadata": {},
   "outputs": [
    {
     "data": {
      "text/html": [
       "<div>\n",
       "<style scoped>\n",
       "    .dataframe tbody tr th:only-of-type {\n",
       "        vertical-align: middle;\n",
       "    }\n",
       "\n",
       "    .dataframe tbody tr th {\n",
       "        vertical-align: top;\n",
       "    }\n",
       "\n",
       "    .dataframe thead th {\n",
       "        text-align: right;\n",
       "    }\n",
       "</style>\n",
       "<table border=\"1\" class=\"dataframe\">\n",
       "  <thead>\n",
       "    <tr style=\"text-align: right;\">\n",
       "      <th></th>\n",
       "      <th>PM25_Concentration</th>\n",
       "      <th>PM10_Concentration</th>\n",
       "      <th>O3_Concentration</th>\n",
       "    </tr>\n",
       "  </thead>\n",
       "  <tbody>\n",
       "    <tr>\n",
       "      <th>384</th>\n",
       "      <td>NaN</td>\n",
       "      <td>NaN</td>\n",
       "      <td>NaN</td>\n",
       "    </tr>\n",
       "    <tr>\n",
       "      <th>384</th>\n",
       "      <td>NaN</td>\n",
       "      <td>NaN</td>\n",
       "      <td>NaN</td>\n",
       "    </tr>\n",
       "    <tr>\n",
       "      <th>384</th>\n",
       "      <td>NaN</td>\n",
       "      <td>NaN</td>\n",
       "      <td>NaN</td>\n",
       "    </tr>\n",
       "    <tr>\n",
       "      <th>385</th>\n",
       "      <td>NaN</td>\n",
       "      <td>NaN</td>\n",
       "      <td>NaN</td>\n",
       "    </tr>\n",
       "    <tr>\n",
       "      <th>385</th>\n",
       "      <td>NaN</td>\n",
       "      <td>NaN</td>\n",
       "      <td>NaN</td>\n",
       "    </tr>\n",
       "  </tbody>\n",
       "</table>\n",
       "</div>"
      ],
      "text/plain": [
       "     PM25_Concentration  PM10_Concentration  O3_Concentration\n",
       "384                 NaN                 NaN               NaN\n",
       "384                 NaN                 NaN               NaN\n",
       "384                 NaN                 NaN               NaN\n",
       "385                 NaN                 NaN               NaN\n",
       "385                 NaN                 NaN               NaN"
      ]
     },
     "execution_count": 14,
     "metadata": {},
     "output_type": "execute_result"
    }
   ],
   "source": [
    "df[df.isnull().values==True].head()"
   ]
  },
  {
   "cell_type": "code",
   "execution_count": 15,
   "metadata": {},
   "outputs": [
    {
     "data": {
      "text/plain": [
       "PM25_Concentration    False\n",
       "PM10_Concentration    False\n",
       "O3_Concentration      False\n",
       "dtype: bool"
      ]
     },
     "execution_count": 15,
     "metadata": {},
     "output_type": "execute_result"
    }
   ],
   "source": [
    "df = fillWithMean(df)\n",
    "df.isnull().any()"
   ]
  },
  {
   "cell_type": "code",
   "execution_count": 16,
   "metadata": {},
   "outputs": [
    {
     "data": {
      "text/html": [
       "<div>\n",
       "<style scoped>\n",
       "    .dataframe tbody tr th:only-of-type {\n",
       "        vertical-align: middle;\n",
       "    }\n",
       "\n",
       "    .dataframe tbody tr th {\n",
       "        vertical-align: top;\n",
       "    }\n",
       "\n",
       "    .dataframe thead th {\n",
       "        text-align: right;\n",
       "    }\n",
       "</style>\n",
       "<table border=\"1\" class=\"dataframe\">\n",
       "  <thead>\n",
       "    <tr style=\"text-align: right;\">\n",
       "      <th></th>\n",
       "      <th>PM25_Concentration</th>\n",
       "      <th>PM10_Concentration</th>\n",
       "      <th>O3_Concentration</th>\n",
       "    </tr>\n",
       "  </thead>\n",
       "  <tbody>\n",
       "  </tbody>\n",
       "</table>\n",
       "</div>"
      ],
      "text/plain": [
       "Empty DataFrame\n",
       "Columns: [PM25_Concentration, PM10_Concentration, O3_Concentration]\n",
       "Index: []"
      ]
     },
     "execution_count": 16,
     "metadata": {},
     "output_type": "execute_result"
    }
   ],
   "source": [
    "df[df.isnull().values==True].head()"
   ]
  },
  {
   "cell_type": "code",
   "execution_count": 17,
   "metadata": {
    "collapsed": true
   },
   "outputs": [],
   "source": [
    "for i in ld_stat:\n",
    "    sub_air = ld_air[ld_air['station_id']==i].fillna(method='ffill')\n",
    "    get_air_time = sub_air['time'].apply(get_time).values\n",
    "    lost_time = list(set(range(24))-set(get_air_time))\n",
    "    \n",
    "    sub_air = sub_air[air_index]\n",
    "    sub_air = sub_air.reset_index(drop=True)\n",
    "    \n",
    "    new_sub = insert_row(lost_time, sub_air)\n",
    "    \n",
    "    new_sub = new_sub[air_index]\n",
    "    new_sub = new_sub.fillna(method='ffill')\n",
    "    new_sub = new_sub.append(new_sub, ignore_index=True)\n",
    "    \n",
    "    df = df.append(new_sub[air_index],ignore_index=True)"
   ]
  },
  {
   "cell_type": "code",
   "execution_count": 18,
   "metadata": {},
   "outputs": [
    {
     "data": {
      "text/plain": [
       "(2304, 3)"
      ]
     },
     "execution_count": 18,
     "metadata": {},
     "output_type": "execute_result"
    }
   ],
   "source": [
    "df.shape"
   ]
  },
  {
   "cell_type": "code",
   "execution_count": 19,
   "metadata": {},
   "outputs": [
    {
     "data": {
      "text/plain": [
       "PM25_Concentration    True\n",
       "PM10_Concentration    True\n",
       "O3_Concentration      True\n",
       "dtype: bool"
      ]
     },
     "execution_count": 19,
     "metadata": {},
     "output_type": "execute_result"
    }
   ],
   "source": [
    "df.isnull().any()"
   ]
  },
  {
   "cell_type": "code",
   "execution_count": 20,
   "metadata": {},
   "outputs": [
    {
     "data": {
      "text/plain": [
       "PM25_Concentration    False\n",
       "PM10_Concentration    False\n",
       "O3_Concentration       True\n",
       "dtype: bool"
      ]
     },
     "execution_count": 20,
     "metadata": {},
     "output_type": "execute_result"
    }
   ],
   "source": [
    "df[1680:] = fillWithMean(df[1680:])\n",
    "df[1680:].isnull().any()"
   ]
  },
  {
   "cell_type": "code",
   "execution_count": 21,
   "metadata": {},
   "outputs": [
    {
     "data": {
      "text/plain": [
       "PM25_Concentration    False\n",
       "PM10_Concentration    False\n",
       "O3_Concentration       True\n",
       "dtype: bool"
      ]
     },
     "execution_count": 21,
     "metadata": {},
     "output_type": "execute_result"
    }
   ],
   "source": [
    "df.isnull().any()"
   ]
  },
  {
   "cell_type": "code",
   "execution_count": 22,
   "metadata": {},
   "outputs": [
    {
     "name": "stderr",
     "output_type": "stream",
     "text": [
      "C:\\Anaconda\\lib\\site-packages\\ipykernel_launcher.py:1: RuntimeWarning: invalid value encountered in less\n",
      "  \"\"\"Entry point for launching an IPython kernel.\n"
     ]
    }
   ],
   "source": [
    "df[df.values<0] = np.abs(df[df.values<0].values)"
   ]
  },
  {
   "cell_type": "code",
   "execution_count": 23,
   "metadata": {},
   "outputs": [
    {
     "data": {
      "text/html": [
       "<div>\n",
       "<style scoped>\n",
       "    .dataframe tbody tr th:only-of-type {\n",
       "        vertical-align: middle;\n",
       "    }\n",
       "\n",
       "    .dataframe tbody tr th {\n",
       "        vertical-align: top;\n",
       "    }\n",
       "\n",
       "    .dataframe thead th {\n",
       "        text-align: right;\n",
       "    }\n",
       "</style>\n",
       "<table border=\"1\" class=\"dataframe\">\n",
       "  <thead>\n",
       "    <tr style=\"text-align: right;\">\n",
       "      <th></th>\n",
       "      <th>PM2.5</th>\n",
       "      <th>PM10</th>\n",
       "      <th>O3</th>\n",
       "    </tr>\n",
       "  </thead>\n",
       "  <tbody>\n",
       "    <tr>\n",
       "      <th>0</th>\n",
       "      <td>47.0</td>\n",
       "      <td>215.0</td>\n",
       "      <td>51.0</td>\n",
       "    </tr>\n",
       "    <tr>\n",
       "      <th>1</th>\n",
       "      <td>35.0</td>\n",
       "      <td>220.0</td>\n",
       "      <td>79.0</td>\n",
       "    </tr>\n",
       "    <tr>\n",
       "      <th>2</th>\n",
       "      <td>35.0</td>\n",
       "      <td>220.0</td>\n",
       "      <td>79.0</td>\n",
       "    </tr>\n",
       "    <tr>\n",
       "      <th>3</th>\n",
       "      <td>30.0</td>\n",
       "      <td>229.0</td>\n",
       "      <td>119.0</td>\n",
       "    </tr>\n",
       "    <tr>\n",
       "      <th>4</th>\n",
       "      <td>38.0</td>\n",
       "      <td>203.0</td>\n",
       "      <td>133.0</td>\n",
       "    </tr>\n",
       "  </tbody>\n",
       "</table>\n",
       "</div>"
      ],
      "text/plain": [
       "   PM2.5   PM10     O3\n",
       "0   47.0  215.0   51.0\n",
       "1   35.0  220.0   79.0\n",
       "2   35.0  220.0   79.0\n",
       "3   30.0  229.0  119.0\n",
       "4   38.0  203.0  133.0"
      ]
     },
     "execution_count": 23,
     "metadata": {},
     "output_type": "execute_result"
    }
   ],
   "source": [
    "rename_cols = {'PM25_Concentration': 'PM2.5', 'PM10_Concentration': 'PM10', 'O3_Concentration':'O3'}\n",
    "\n",
    "df = df.rename(columns=rename_cols)\n",
    "df.head()"
   ]
  },
  {
   "cell_type": "code",
   "execution_count": 24,
   "metadata": {},
   "outputs": [
    {
     "data": {
      "text/html": [
       "<div>\n",
       "<style scoped>\n",
       "    .dataframe tbody tr th:only-of-type {\n",
       "        vertical-align: middle;\n",
       "    }\n",
       "\n",
       "    .dataframe tbody tr th {\n",
       "        vertical-align: top;\n",
       "    }\n",
       "\n",
       "    .dataframe thead th {\n",
       "        text-align: right;\n",
       "    }\n",
       "</style>\n",
       "<table border=\"1\" class=\"dataframe\">\n",
       "  <thead>\n",
       "    <tr style=\"text-align: right;\">\n",
       "      <th></th>\n",
       "      <th>test_id</th>\n",
       "      <th>PM2.5</th>\n",
       "      <th>PM10</th>\n",
       "      <th>O3</th>\n",
       "    </tr>\n",
       "  </thead>\n",
       "  <tbody>\n",
       "    <tr>\n",
       "      <th>0</th>\n",
       "      <td>dongsi_aq#0</td>\n",
       "      <td>0</td>\n",
       "      <td>0</td>\n",
       "      <td>0</td>\n",
       "    </tr>\n",
       "    <tr>\n",
       "      <th>1</th>\n",
       "      <td>dongsi_aq#1</td>\n",
       "      <td>0</td>\n",
       "      <td>0</td>\n",
       "      <td>0</td>\n",
       "    </tr>\n",
       "    <tr>\n",
       "      <th>2</th>\n",
       "      <td>dongsi_aq#2</td>\n",
       "      <td>0</td>\n",
       "      <td>0</td>\n",
       "      <td>0</td>\n",
       "    </tr>\n",
       "    <tr>\n",
       "      <th>3</th>\n",
       "      <td>dongsi_aq#3</td>\n",
       "      <td>0</td>\n",
       "      <td>0</td>\n",
       "      <td>0</td>\n",
       "    </tr>\n",
       "    <tr>\n",
       "      <th>4</th>\n",
       "      <td>dongsi_aq#4</td>\n",
       "      <td>0</td>\n",
       "      <td>0</td>\n",
       "      <td>0</td>\n",
       "    </tr>\n",
       "  </tbody>\n",
       "</table>\n",
       "</div>"
      ],
      "text/plain": [
       "       test_id  PM2.5  PM10  O3\n",
       "0  dongsi_aq#0      0     0   0\n",
       "1  dongsi_aq#1      0     0   0\n",
       "2  dongsi_aq#2      0     0   0\n",
       "3  dongsi_aq#3      0     0   0\n",
       "4  dongsi_aq#4      0     0   0"
      ]
     },
     "execution_count": 24,
     "metadata": {},
     "output_type": "execute_result"
    }
   ],
   "source": [
    "submission.head()"
   ]
  },
  {
   "cell_type": "code",
   "execution_count": 25,
   "metadata": {},
   "outputs": [
    {
     "data": {
      "text/html": [
       "<div>\n",
       "<style scoped>\n",
       "    .dataframe tbody tr th:only-of-type {\n",
       "        vertical-align: middle;\n",
       "    }\n",
       "\n",
       "    .dataframe tbody tr th {\n",
       "        vertical-align: top;\n",
       "    }\n",
       "\n",
       "    .dataframe thead th {\n",
       "        text-align: right;\n",
       "    }\n",
       "</style>\n",
       "<table border=\"1\" class=\"dataframe\">\n",
       "  <thead>\n",
       "    <tr style=\"text-align: right;\">\n",
       "      <th></th>\n",
       "      <th>PM2.5</th>\n",
       "      <th>PM10</th>\n",
       "      <th>O3</th>\n",
       "      <th>test_id</th>\n",
       "    </tr>\n",
       "  </thead>\n",
       "  <tbody>\n",
       "    <tr>\n",
       "      <th>0</th>\n",
       "      <td>47.0</td>\n",
       "      <td>215.0</td>\n",
       "      <td>51.0</td>\n",
       "      <td>dongsi_aq#0</td>\n",
       "    </tr>\n",
       "    <tr>\n",
       "      <th>1</th>\n",
       "      <td>35.0</td>\n",
       "      <td>220.0</td>\n",
       "      <td>79.0</td>\n",
       "      <td>dongsi_aq#1</td>\n",
       "    </tr>\n",
       "    <tr>\n",
       "      <th>2</th>\n",
       "      <td>35.0</td>\n",
       "      <td>220.0</td>\n",
       "      <td>79.0</td>\n",
       "      <td>dongsi_aq#2</td>\n",
       "    </tr>\n",
       "    <tr>\n",
       "      <th>3</th>\n",
       "      <td>30.0</td>\n",
       "      <td>229.0</td>\n",
       "      <td>119.0</td>\n",
       "      <td>dongsi_aq#3</td>\n",
       "    </tr>\n",
       "    <tr>\n",
       "      <th>4</th>\n",
       "      <td>38.0</td>\n",
       "      <td>203.0</td>\n",
       "      <td>133.0</td>\n",
       "      <td>dongsi_aq#4</td>\n",
       "    </tr>\n",
       "  </tbody>\n",
       "</table>\n",
       "</div>"
      ],
      "text/plain": [
       "   PM2.5   PM10     O3      test_id\n",
       "0   47.0  215.0   51.0  dongsi_aq#0\n",
       "1   35.0  220.0   79.0  dongsi_aq#1\n",
       "2   35.0  220.0   79.0  dongsi_aq#2\n",
       "3   30.0  229.0  119.0  dongsi_aq#3\n",
       "4   38.0  203.0  133.0  dongsi_aq#4"
      ]
     },
     "execution_count": 25,
     "metadata": {},
     "output_type": "execute_result"
    }
   ],
   "source": [
    "df['test_id'] = submission['test_id']\n",
    "df.head()"
   ]
  },
  {
   "cell_type": "code",
   "execution_count": 26,
   "metadata": {},
   "outputs": [
    {
     "data": {
      "text/html": [
       "<div>\n",
       "<style scoped>\n",
       "    .dataframe tbody tr th:only-of-type {\n",
       "        vertical-align: middle;\n",
       "    }\n",
       "\n",
       "    .dataframe tbody tr th {\n",
       "        vertical-align: top;\n",
       "    }\n",
       "\n",
       "    .dataframe thead th {\n",
       "        text-align: right;\n",
       "    }\n",
       "</style>\n",
       "<table border=\"1\" class=\"dataframe\">\n",
       "  <thead>\n",
       "    <tr style=\"text-align: right;\">\n",
       "      <th></th>\n",
       "      <th>test_id</th>\n",
       "      <th>PM2.5</th>\n",
       "      <th>PM10</th>\n",
       "      <th>O3</th>\n",
       "    </tr>\n",
       "  </thead>\n",
       "  <tbody>\n",
       "    <tr>\n",
       "      <th>0</th>\n",
       "      <td>dongsi_aq#0</td>\n",
       "      <td>47.0</td>\n",
       "      <td>215.0</td>\n",
       "      <td>51.0</td>\n",
       "    </tr>\n",
       "    <tr>\n",
       "      <th>1</th>\n",
       "      <td>dongsi_aq#1</td>\n",
       "      <td>35.0</td>\n",
       "      <td>220.0</td>\n",
       "      <td>79.0</td>\n",
       "    </tr>\n",
       "    <tr>\n",
       "      <th>2</th>\n",
       "      <td>dongsi_aq#2</td>\n",
       "      <td>35.0</td>\n",
       "      <td>220.0</td>\n",
       "      <td>79.0</td>\n",
       "    </tr>\n",
       "    <tr>\n",
       "      <th>3</th>\n",
       "      <td>dongsi_aq#3</td>\n",
       "      <td>30.0</td>\n",
       "      <td>229.0</td>\n",
       "      <td>119.0</td>\n",
       "    </tr>\n",
       "    <tr>\n",
       "      <th>4</th>\n",
       "      <td>dongsi_aq#4</td>\n",
       "      <td>38.0</td>\n",
       "      <td>203.0</td>\n",
       "      <td>133.0</td>\n",
       "    </tr>\n",
       "  </tbody>\n",
       "</table>\n",
       "</div>"
      ],
      "text/plain": [
       "       test_id  PM2.5   PM10     O3\n",
       "0  dongsi_aq#0   47.0  215.0   51.0\n",
       "1  dongsi_aq#1   35.0  220.0   79.0\n",
       "2  dongsi_aq#2   35.0  220.0   79.0\n",
       "3  dongsi_aq#3   30.0  229.0  119.0\n",
       "4  dongsi_aq#4   38.0  203.0  133.0"
      ]
     },
     "execution_count": 26,
     "metadata": {},
     "output_type": "execute_result"
    }
   ],
   "source": [
    "cols = df.columns.tolist()\n",
    "cols = cols[-1:] + cols[:-1]\n",
    "df = df[cols]\n",
    "df.head()"
   ]
  },
  {
   "cell_type": "code",
   "execution_count": 27,
   "metadata": {
    "collapsed": true
   },
   "outputs": [],
   "source": [
    "start = int(start_data.split('-')[-2])+1\n",
    "start = start_data[:8]+str(start)\n",
    "\n",
    "end = int(end_data.split('-')[-2])+2\n",
    "end = end_data[:8]+str(end)"
   ]
  },
  {
   "cell_type": "code",
   "execution_count": 28,
   "metadata": {
    "collapsed": true
   },
   "outputs": [],
   "source": [
    "res_path = 'D:/Program/dataset/KDD2018/result/'\n",
    "csv_name = res_path+'result_'+start+'-'+end+'.csv'\n",
    "df.to_csv(csv_name, index=False)"
   ]
  },
  {
   "cell_type": "code",
   "execution_count": null,
   "metadata": {
    "collapsed": true
   },
   "outputs": [],
   "source": []
  }
 ],
 "metadata": {
  "kernelspec": {
   "display_name": "Python 3",
   "language": "python",
   "name": "python3"
  },
  "language_info": {
   "codemirror_mode": {
    "name": "ipython",
    "version": 3
   },
   "file_extension": ".py",
   "mimetype": "text/x-python",
   "name": "python",
   "nbconvert_exporter": "python",
   "pygments_lexer": "ipython3",
   "version": "3.6.2"
  }
 },
 "nbformat": 4,
 "nbformat_minor": 2
}
