{
 "cells": [
  {
   "cell_type": "code",
   "execution_count": 1,
   "metadata": {},
   "outputs": [
    {
     "name": "stdout",
     "output_type": "stream",
     "text": [
      "{\"success\": true}\n"
     ]
    }
   ],
   "source": [
    "import requests\n",
    "\n",
    "csv_name = '/Users/jojo/Desktop/KDD/ok.csv'\n",
    "\n",
    "\n",
    "files={'files': open(csv_name,'rb')}\n",
    " \n",
    "data = {\n",
    "    \"user_id\": \"bigfatjj5566\",   #user_id is your username which can be found on \n",
    "                                 #the top-right corner on our website when you logged in.\n",
    "    \"team_token\": \"c2cb15439b4ade5c70cc6a2f817359c046accf7fdd185aab79aa4ac1b42e65c1\", #your team_token.\n",
    "    \"description\": 'toogodla',  #no more than 40 chars.\n",
    "    \"filename\": \"toogodla\", #your filename\n",
    "}\n",
    " \n",
    "url = 'https://biendata.com/competition/kdd_2018_submit/'\n",
    " \n",
    "response = requests.post(url, files=files, data=data)\n",
    " \n",
    "print(response.text)"
   ]
  },
  {
   "cell_type": "code",
   "execution_count": null,
   "metadata": {},
   "outputs": [],
   "source": []
  }
 ],
 "metadata": {
  "kernelspec": {
   "display_name": "Python 3",
   "language": "python",
   "name": "python3"
  },
  "language_info": {
   "codemirror_mode": {
    "name": "ipython",
    "version": 3
   },
   "file_extension": ".py",
   "mimetype": "text/x-python",
   "name": "python",
   "nbconvert_exporter": "python",
   "pygments_lexer": "ipython3",
   "version": "3.6.4"
  }
 },
 "nbformat": 4,
 "nbformat_minor": 2
}
